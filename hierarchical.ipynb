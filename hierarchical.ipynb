{
 "cells": [
  {
   "cell_type": "code",
   "execution_count": 1,
   "id": "52293c62-4355-404d-833b-672fd473149a",
   "metadata": {},
   "outputs": [],
   "source": [
    "import numpy as np\n",
    "import pandas as pd\n",
    "import matplotlib.pyplot as plt\n",
    "%matplotlib inline\n",
    "import scipy.cluster.hierarchy as sch\n"
   ]
  },
  {
   "cell_type": "code",
   "execution_count": 3,
   "id": "0c9454b7-7e85-471f-9dd0-4a92ca7984b0",
   "metadata": {},
   "outputs": [
    {
     "name": "stdout",
     "output_type": "stream",
     "text": [
      "Collecting pandas\n",
      "  Downloading pandas-2.2.2-cp312-cp312-win_amd64.whl.metadata (19 kB)\n",
      "Collecting matplotlib\n",
      "  Downloading matplotlib-3.9.1-cp312-cp312-win_amd64.whl.metadata (11 kB)\n",
      "Collecting scipy\n",
      "  Downloading scipy-1.14.0-cp312-cp312-win_amd64.whl.metadata (60 kB)\n",
      "     ---------------------------------------- 0.0/60.8 kB ? eta -:--:--\n",
      "     ---------------------------------------- 60.8/60.8 kB 3.2 MB/s eta 0:00:00\n",
      "Requirement already satisfied: numpy>=1.26.0 in c:\\users\\junnubava\\appdata\\local\\programs\\python\\python312\\lib\\site-packages (from pandas) (2.0.1)\n",
      "Requirement already satisfied: python-dateutil>=2.8.2 in c:\\users\\junnubava\\appdata\\local\\programs\\python\\python312\\lib\\site-packages (from pandas) (2.9.0.post0)\n",
      "Collecting pytz>=2020.1 (from pandas)\n",
      "  Downloading pytz-2024.1-py2.py3-none-any.whl.metadata (22 kB)\n",
      "Collecting tzdata>=2022.7 (from pandas)\n",
      "  Downloading tzdata-2024.1-py2.py3-none-any.whl.metadata (1.4 kB)\n",
      "Collecting contourpy>=1.0.1 (from matplotlib)\n",
      "  Downloading contourpy-1.2.1-cp312-cp312-win_amd64.whl.metadata (5.8 kB)\n",
      "Collecting cycler>=0.10 (from matplotlib)\n",
      "  Downloading cycler-0.12.1-py3-none-any.whl.metadata (3.8 kB)\n",
      "Collecting fonttools>=4.22.0 (from matplotlib)\n",
      "  Downloading fonttools-4.53.1-cp312-cp312-win_amd64.whl.metadata (165 kB)\n",
      "     ---------------------------------------- 0.0/165.9 kB ? eta -:--:--\n",
      "     -------------------------------------- 165.9/165.9 kB 9.7 MB/s eta 0:00:00\n",
      "Collecting kiwisolver>=1.3.1 (from matplotlib)\n",
      "  Downloading kiwisolver-1.4.5-cp312-cp312-win_amd64.whl.metadata (6.5 kB)\n",
      "Requirement already satisfied: packaging>=20.0 in c:\\users\\junnubava\\appdata\\local\\programs\\python\\python312\\lib\\site-packages (from matplotlib) (24.1)\n",
      "Collecting pillow>=8 (from matplotlib)\n",
      "  Downloading pillow-10.4.0-cp312-cp312-win_amd64.whl.metadata (9.3 kB)\n",
      "Collecting pyparsing>=2.3.1 (from matplotlib)\n",
      "  Downloading pyparsing-3.1.2-py3-none-any.whl.metadata (5.1 kB)\n",
      "Requirement already satisfied: six>=1.5 in c:\\users\\junnubava\\appdata\\local\\programs\\python\\python312\\lib\\site-packages (from python-dateutil>=2.8.2->pandas) (1.16.0)\n",
      "Downloading pandas-2.2.2-cp312-cp312-win_amd64.whl (11.5 MB)\n",
      "   ---------------------------------------- 0.0/11.5 MB ? eta -:--:--\n",
      "   --- ------------------------------------ 1.1/11.5 MB 22.2 MB/s eta 0:00:01\n",
      "   ---- ----------------------------------- 1.4/11.5 MB 17.9 MB/s eta 0:00:01\n",
      "   -------- ------------------------------- 2.6/11.5 MB 18.2 MB/s eta 0:00:01\n",
      "   ----------- ---------------------------- 3.3/11.5 MB 17.4 MB/s eta 0:00:01\n",
      "   ----------- ---------------------------- 3.4/11.5 MB 16.8 MB/s eta 0:00:01\n",
      "   ------------------ --------------------- 5.3/11.5 MB 19.8 MB/s eta 0:00:01\n",
      "   --------------------- ------------------ 6.2/11.5 MB 18.9 MB/s eta 0:00:01\n",
      "   ------------------------ --------------- 7.0/11.5 MB 18.7 MB/s eta 0:00:01\n",
      "   --------------------------- ------------ 7.9/11.5 MB 19.3 MB/s eta 0:00:01\n",
      "   ------------------------------ --------- 8.7/11.5 MB 19.1 MB/s eta 0:00:01\n",
      "   -------------------------------- ------- 9.4/11.5 MB 18.7 MB/s eta 0:00:01\n",
      "   ----------------------------------- ---- 10.2/11.5 MB 18.7 MB/s eta 0:00:01\n",
      "   ------------------------------------ --- 10.4/11.5 MB 18.2 MB/s eta 0:00:01\n",
      "   ------------------------------------- -- 10.8/11.5 MB 16.4 MB/s eta 0:00:01\n",
      "   ---------------------------------------  11.5/11.5 MB 16.0 MB/s eta 0:00:01\n",
      "   ---------------------------------------- 11.5/11.5 MB 15.2 MB/s eta 0:00:00\n",
      "Downloading matplotlib-3.9.1-cp312-cp312-win_amd64.whl (8.0 MB)\n",
      "   ---------------------------------------- 0.0/8.0 MB ? eta -:--:--\n",
      "   --- ------------------------------------ 0.8/8.0 MB 24.1 MB/s eta 0:00:01\n",
      "   -------- ------------------------------- 1.6/8.0 MB 20.6 MB/s eta 0:00:01\n",
      "   ------------ --------------------------- 2.5/8.0 MB 20.2 MB/s eta 0:00:01\n",
      "   ---------------- ----------------------- 3.4/8.0 MB 19.5 MB/s eta 0:00:01\n",
      "   --------------------- ------------------ 4.2/8.0 MB 19.2 MB/s eta 0:00:01\n",
      "   ------------------------- -------------- 5.1/8.0 MB 19.1 MB/s eta 0:00:01\n",
      "   ------------------------------ --------- 6.0/8.0 MB 19.2 MB/s eta 0:00:01\n",
      "   ---------------------------------- ----- 6.9/8.0 MB 19.1 MB/s eta 0:00:01\n",
      "   -------------------------------------- - 7.7/8.0 MB 18.9 MB/s eta 0:00:01\n",
      "   -------------------------------------- - 7.7/8.0 MB 18.2 MB/s eta 0:00:01\n",
      "   ---------------------------------------  7.9/8.0 MB 15.9 MB/s eta 0:00:01\n",
      "   ---------------------------------------- 8.0/8.0 MB 15.0 MB/s eta 0:00:00\n",
      "Downloading scipy-1.14.0-cp312-cp312-win_amd64.whl (44.5 MB)\n",
      "   ---------------------------------------- 0.0/44.5 MB ? eta -:--:--\n",
      "    --------------------------------------- 1.0/44.5 MB 21.4 MB/s eta 0:00:03\n",
      "   - -------------------------------------- 1.8/44.5 MB 19.2 MB/s eta 0:00:03\n",
      "   -- ------------------------------------- 2.7/44.5 MB 18.8 MB/s eta 0:00:03\n",
      "   --- ------------------------------------ 3.6/44.5 MB 19.0 MB/s eta 0:00:03\n",
      "   ---- ----------------------------------- 4.5/44.5 MB 19.4 MB/s eta 0:00:03\n",
      "   ---- ----------------------------------- 5.2/44.5 MB 18.5 MB/s eta 0:00:03\n",
      "   ----- ---------------------------------- 6.1/44.5 MB 18.6 MB/s eta 0:00:03\n",
      "   ------ --------------------------------- 7.1/44.5 MB 18.8 MB/s eta 0:00:02\n",
      "   ------- -------------------------------- 8.0/44.5 MB 19.0 MB/s eta 0:00:02\n",
      "   ------- -------------------------------- 8.9/44.5 MB 18.9 MB/s eta 0:00:02\n",
      "   -------- ------------------------------- 9.8/44.5 MB 18.9 MB/s eta 0:00:02\n",
      "   --------- ------------------------------ 10.6/44.5 MB 18.7 MB/s eta 0:00:02\n",
      "   ---------- ----------------------------- 11.4/44.5 MB 18.7 MB/s eta 0:00:02\n",
      "   ----------- ---------------------------- 12.3/44.5 MB 18.7 MB/s eta 0:00:02\n",
      "   ----------- ---------------------------- 13.1/44.5 MB 18.7 MB/s eta 0:00:02\n",
      "   ------------ --------------------------- 14.0/44.5 MB 18.7 MB/s eta 0:00:02\n",
      "   ------------- -------------------------- 14.9/44.5 MB 18.2 MB/s eta 0:00:02\n",
      "   -------------- ------------------------- 15.7/44.5 MB 18.7 MB/s eta 0:00:02\n",
      "   -------------- ------------------------- 16.5/44.5 MB 18.7 MB/s eta 0:00:02\n",
      "   --------------- ------------------------ 17.4/44.5 MB 18.2 MB/s eta 0:00:02\n",
      "   ---------------- ----------------------- 18.3/44.5 MB 18.7 MB/s eta 0:00:02\n",
      "   ----------------- ---------------------- 19.2/44.5 MB 18.2 MB/s eta 0:00:02\n",
      "   ------------------ --------------------- 20.0/44.5 MB 18.2 MB/s eta 0:00:02\n",
      "   ------------------ --------------------- 20.9/44.5 MB 18.2 MB/s eta 0:00:02\n",
      "   ------------------- -------------------- 21.7/44.5 MB 18.2 MB/s eta 0:00:02\n",
      "   -------------------- ------------------- 22.6/44.5 MB 18.2 MB/s eta 0:00:02\n",
      "   --------------------- ------------------ 23.4/44.5 MB 18.2 MB/s eta 0:00:02\n",
      "   --------------------- ------------------ 24.3/44.5 MB 18.2 MB/s eta 0:00:02\n",
      "   ---------------------- ----------------- 25.1/44.5 MB 18.2 MB/s eta 0:00:02\n",
      "   ----------------------- ---------------- 26.0/44.5 MB 18.2 MB/s eta 0:00:02\n",
      "   ------------------------ --------------- 26.8/44.5 MB 18.2 MB/s eta 0:00:01\n",
      "   ------------------------ --------------- 27.7/44.5 MB 18.2 MB/s eta 0:00:01\n",
      "   ------------------------- -------------- 28.6/44.5 MB 18.2 MB/s eta 0:00:01\n",
      "   -------------------------- ------------- 29.4/44.5 MB 18.2 MB/s eta 0:00:01\n",
      "   --------------------------- ------------ 30.3/44.5 MB 18.2 MB/s eta 0:00:01\n",
      "   --------------------------- ------------ 31.1/44.5 MB 18.2 MB/s eta 0:00:01\n",
      "   ---------------------------- ----------- 32.0/44.5 MB 18.2 MB/s eta 0:00:01\n",
      "   ----------------------------- ---------- 32.8/44.5 MB 18.2 MB/s eta 0:00:01\n",
      "   ------------------------------ --------- 33.7/44.5 MB 18.2 MB/s eta 0:00:01\n",
      "   ------------------------------- -------- 34.5/44.5 MB 18.2 MB/s eta 0:00:01\n",
      "   ------------------------------- -------- 35.3/44.5 MB 18.7 MB/s eta 0:00:01\n",
      "   -------------------------------- ------- 36.2/44.5 MB 18.7 MB/s eta 0:00:01\n",
      "   --------------------------------- ------ 37.0/44.5 MB 18.7 MB/s eta 0:00:01\n",
      "   ---------------------------------- ----- 37.9/44.5 MB 18.7 MB/s eta 0:00:01\n",
      "   ---------------------------------- ----- 38.8/44.5 MB 18.7 MB/s eta 0:00:01\n",
      "   ----------------------------------- ---- 39.6/44.5 MB 18.7 MB/s eta 0:00:01\n",
      "   ------------------------------------ --- 40.5/44.5 MB 18.7 MB/s eta 0:00:01\n",
      "   ------------------------------------- -- 41.3/44.5 MB 18.7 MB/s eta 0:00:01\n",
      "   ------------------------------------- -- 42.2/44.5 MB 18.7 MB/s eta 0:00:01\n",
      "   -------------------------------------- - 42.7/44.5 MB 17.7 MB/s eta 0:00:01\n",
      "   ---------------------------------------  43.8/44.5 MB 18.2 MB/s eta 0:00:01\n",
      "   ---------------------------------------  44.5/44.5 MB 18.2 MB/s eta 0:00:01\n",
      "   ---------------------------------------  44.5/44.5 MB 18.2 MB/s eta 0:00:01\n",
      "   ---------------------------------------- 44.5/44.5 MB 16.4 MB/s eta 0:00:00\n",
      "Downloading contourpy-1.2.1-cp312-cp312-win_amd64.whl (189 kB)\n",
      "   ---------------------------------------- 0.0/189.9 kB ? eta -:--:--\n",
      "   --------------------------------------- 189.9/189.9 kB 12.0 MB/s eta 0:00:00\n",
      "Downloading cycler-0.12.1-py3-none-any.whl (8.3 kB)\n",
      "Downloading fonttools-4.53.1-cp312-cp312-win_amd64.whl (2.2 MB)\n",
      "   ---------------------------------------- 0.0/2.2 MB ? eta -:--:--\n",
      "   ------------------ --------------------- 1.0/2.2 MB 21.4 MB/s eta 0:00:01\n",
      "   ---------------------------------- ----- 1.9/2.2 MB 20.2 MB/s eta 0:00:01\n",
      "   ---------------------------------------- 2.2/2.2 MB 17.5 MB/s eta 0:00:00\n",
      "Downloading kiwisolver-1.4.5-cp312-cp312-win_amd64.whl (56 kB)\n",
      "   ---------------------------------------- 0.0/56.0 kB ? eta -:--:--\n",
      "   ---------------------------------------- 56.0/56.0 kB 3.1 MB/s eta 0:00:00\n",
      "Downloading pillow-10.4.0-cp312-cp312-win_amd64.whl (2.6 MB)\n",
      "   ---------------------------------------- 0.0/2.6 MB ? eta -:--:--\n",
      "   ----------------- ---------------------- 1.1/2.6 MB 23.7 MB/s eta 0:00:01\n",
      "   ------------------------------ --------- 2.0/2.6 MB 21.0 MB/s eta 0:00:01\n",
      "   ---------------------------------------  2.5/2.6 MB 20.3 MB/s eta 0:00:01\n",
      "   ---------------------------------------- 2.6/2.6 MB 16.3 MB/s eta 0:00:00\n",
      "Downloading pyparsing-3.1.2-py3-none-any.whl (103 kB)\n",
      "   ---------------------------------------- 0.0/103.2 kB ? eta -:--:--\n",
      "   ---------------------------------------- 103.2/103.2 kB 6.2 MB/s eta 0:00:00\n",
      "Downloading pytz-2024.1-py2.py3-none-any.whl (505 kB)\n",
      "   ---------------------------------------- 0.0/505.5 kB ? eta -:--:--\n",
      "   --------------------------------------- 505.5/505.5 kB 10.5 MB/s eta 0:00:00\n",
      "Downloading tzdata-2024.1-py2.py3-none-any.whl (345 kB)\n",
      "   ---------------------------------------- 0.0/345.4 kB ? eta -:--:--\n",
      "   --------------------------------------- 345.4/345.4 kB 10.5 MB/s eta 0:00:00\n",
      "Installing collected packages: pytz, tzdata, scipy, pyparsing, pillow, kiwisolver, fonttools, cycler, contourpy, pandas, matplotlib\n",
      "Successfully installed contourpy-1.2.1 cycler-0.12.1 fonttools-4.53.1 kiwisolver-1.4.5 matplotlib-3.9.1 pandas-2.2.2 pillow-10.4.0 pyparsing-3.1.2 pytz-2024.1 scipy-1.14.0 tzdata-2024.1\n"
     ]
    }
   ],
   "source": [
    "!pip install pandas matplotlib scipy\n"
   ]
  },
  {
   "cell_type": "code",
   "execution_count": 20,
   "id": "1d843458-c90a-4971-a5e9-2a37a27fa1ec",
   "metadata": {},
   "outputs": [
    {
     "data": {
      "text/html": [
       "<div>\n",
       "<style scoped>\n",
       "    .dataframe tbody tr th:only-of-type {\n",
       "        vertical-align: middle;\n",
       "    }\n",
       "\n",
       "    .dataframe tbody tr th {\n",
       "        vertical-align: top;\n",
       "    }\n",
       "\n",
       "    .dataframe thead th {\n",
       "        text-align: right;\n",
       "    }\n",
       "</style>\n",
       "<table border=\"1\" class=\"dataframe\">\n",
       "  <thead>\n",
       "    <tr style=\"text-align: right;\">\n",
       "      <th></th>\n",
       "      <th>age</th>\n",
       "      <th>income</th>\n",
       "      <th>score</th>\n",
       "    </tr>\n",
       "  </thead>\n",
       "  <tbody>\n",
       "    <tr>\n",
       "      <th>count</th>\n",
       "      <td>10.000000</td>\n",
       "      <td>10.000000</td>\n",
       "      <td>10.00000</td>\n",
       "    </tr>\n",
       "    <tr>\n",
       "      <th>mean</th>\n",
       "      <td>39.000000</td>\n",
       "      <td>38.000000</td>\n",
       "      <td>34.30000</td>\n",
       "    </tr>\n",
       "    <tr>\n",
       "      <th>std</th>\n",
       "      <td>21.354157</td>\n",
       "      <td>14.134277</td>\n",
       "      <td>24.41789</td>\n",
       "    </tr>\n",
       "    <tr>\n",
       "      <th>min</th>\n",
       "      <td>10.000000</td>\n",
       "      <td>12.000000</td>\n",
       "      <td>2.00000</td>\n",
       "    </tr>\n",
       "    <tr>\n",
       "      <th>25%</th>\n",
       "      <td>23.250000</td>\n",
       "      <td>32.500000</td>\n",
       "      <td>14.75000</td>\n",
       "    </tr>\n",
       "    <tr>\n",
       "      <th>50%</th>\n",
       "      <td>35.000000</td>\n",
       "      <td>39.000000</td>\n",
       "      <td>34.00000</td>\n",
       "    </tr>\n",
       "    <tr>\n",
       "      <th>75%</th>\n",
       "      <td>53.750000</td>\n",
       "      <td>44.000000</td>\n",
       "      <td>55.25000</td>\n",
       "    </tr>\n",
       "    <tr>\n",
       "      <th>max</th>\n",
       "      <td>78.000000</td>\n",
       "      <td>66.000000</td>\n",
       "      <td>65.00000</td>\n",
       "    </tr>\n",
       "  </tbody>\n",
       "</table>\n",
       "</div>"
      ],
      "text/plain": [
       "             age     income     score\n",
       "count  10.000000  10.000000  10.00000\n",
       "mean   39.000000  38.000000  34.30000\n",
       "std    21.354157  14.134277  24.41789\n",
       "min    10.000000  12.000000   2.00000\n",
       "25%    23.250000  32.500000  14.75000\n",
       "50%    35.000000  39.000000  34.00000\n",
       "75%    53.750000  44.000000  55.25000\n",
       "max    78.000000  66.000000  65.00000"
      ]
     },
     "execution_count": 20,
     "metadata": {},
     "output_type": "execute_result"
    }
   ],
   "source": [
    "data = {\n",
    "    'age': [10, 20, 30, 40, 50, 60,23,55,24,78],\n",
    "    'income': [32, 44, 26, 44, 12, 34,44,35,66,43],\n",
    "    'score': [12, 23, 45, 3, 65, 2,56,23,53,61]\n",
    "}\n",
    "\n",
    "df=pd.DataFrame(data)\n",
    "df\n",
    "df.describe()"
   ]
  },
  {
   "cell_type": "code",
   "execution_count": 21,
   "id": "1baa55a3-9d2d-4407-9b99-91fe8128c703",
   "metadata": {},
   "outputs": [
    {
     "data": {
      "text/plain": [
       "(array([1., 0., 1., 1., 2., 4., 0., 0., 0., 1.]),\n",
       " array([12. , 17.4, 22.8, 28.2, 33.6, 39. , 44.4, 49.8, 55.2, 60.6, 66. ]),\n",
       " <BarContainer object of 10 artists>)"
      ]
     },
     "execution_count": 21,
     "metadata": {},
     "output_type": "execute_result"
    },
    {
     "data": {
      "image/png": "[encoded data removed]",
      "text/plain": [
       "<Figure size 640x480 with 1 Axes>"
      ]
     },
     "metadata": {},
     "output_type": "display_data"
    }
   ],
   "source": [
    "plt.hist(df['income'])"
   ]
  },
  {
   "cell_type": "code",
   "execution_count": 22,
   "id": "dd287ddb-a3d2-4975-918c-aff62f7cbeb1",
   "metadata": {},
   "outputs": [
    {
     "data": {
      "text/plain": [
       "<matplotlib.collections.PathCollection at 0x1e29a0001d0>"
      ]
     },
     "execution_count": 22,
     "metadata": {},
     "output_type": "execute_result"
    },
    {
     "data": {
      "image/png": "[encoded data removed]",
      "text/plain": [
       "<Figure size 640x480 with 1 Axes>"
      ]
     },
     "metadata": {},
     "output_type": "display_data"
    }
   ],
   "source": [
    "plt.scatter(df['income'],df['score'],s=100)"
   ]
  },
  {
   "cell_type": "code",
   "execution_count": 23,
   "id": "4aeac0a8-6e82-4cdf-ad91-35c7395b3e74",
   "metadata": {},
   "outputs": [],
   "source": [
    "x=df.iloc[:,[1,2]].values"
   ]
  },
  {
   "cell_type": "code",
   "execution_count": 25,
   "id": "5645be90-9548-4f25-bcae-64c9da145feb",
   "metadata": {},
   "outputs": [
    {
     "data": {
      "image/png": "[encoded data removed]",
      "text/plain": [
       "<Figure size 640x480 with 1 Axes>"
      ]
     },
     "metadata": {},
     "output_type": "display_data"
    }
   ],
   "source": [
    "plt.title('dendograms')\n",
    "plt.xlabel('customers')\n",
    "plt.ylabel('euclidean')\n",
    "#plt.hlines(y=19,xmin=0,xmax=6,lw=2,linestyles='--)\n",
    "plt.hlines(y=19,xmin=0,xmax=200,lw=3,linestyles='--')\n",
    "dendogram=sch.dendrogram(sch.linkage(x,method='ward'))\n",
    "plt.show()"
   ]
  },
  {
   "cell_type": "code",
   "execution_count": 38,
   "id": "9479f646-665f-4891-8dbf-a03568384a7a",
   "metadata": {},
   "outputs": [
    {
     "data": {
      "image/png": "[encoded data removed]",
      "text/plain": [
       "<Figure size 640x480 with 1 Axes>"
      ]
     },
     "metadata": {},
     "output_type": "display_data"
    }
   ],
   "source": [
    "#build model\n",
    "\n",
    "from sklearn.cluster import AgglomerativeClustering\n",
    "\n",
    "# Example usage\n",
    "model = AgglomerativeClustering(n_clusters=3, linkage='ward')\n",
    "\n",
    "y_hc=model.fit_predict(x)\n",
    "plt.scatter(x[y_hc==0,0],x[y_hc==0,1],c='red',label='sensible')\n",
    "plt.scatter(x[y_hc==1,0],x[y_hc==1,1],c='blue',label='irresponsible')\n",
    "plt.scatter(x[y_hc==2,0],x[y_hc==2,1],c='yellow',label='legible')\n",
    "plt.legend(fontsize=16)\n",
    "plt.grid(True)\n",
    "plt.show()\n"
   ]
  },
  {
   "cell_type": "code",
   "execution_count": 27,
   "id": "ff1322b6-dd71-48f4-b681-45dc9ab2633a",
   "metadata": {},
   "outputs": [
    {
     "name": "stdout",
     "output_type": "stream",
     "text": [
      "Collecting scikit-learn\n",
      "  Downloading scikit_learn-1.5.1-cp312-cp312-win_amd64.whl.metadata (12 kB)\n",
      "Requirement already satisfied: numpy>=1.19.5 in c:\\users\\junnubava\\appdata\\local\\programs\\python\\python312\\lib\\site-packages (from scikit-learn) (2.0.1)\n",
      "Requirement already satisfied: scipy>=1.6.0 in c:\\users\\junnubava\\appdata\\local\\programs\\python\\python312\\lib\\site-packages (from scikit-learn) (1.14.0)\n",
      "Collecting joblib>=1.2.0 (from scikit-learn)\n",
      "  Downloading joblib-1.4.2-py3-none-any.whl.metadata (5.4 kB)\n",
      "Collecting threadpoolctl>=3.1.0 (from scikit-learn)\n",
      "  Downloading threadpoolctl-3.5.0-py3-none-any.whl.metadata (13 kB)\n",
      "Downloading scikit_learn-1.5.1-cp312-cp312-win_amd64.whl (10.9 MB)\n",
      "   ---------------------------------------- 0.0/10.9 MB ? eta -:--:--\n",
      "    --------------------------------------- 0.3/10.9 MB 8.3 MB/s eta 0:00:02\n",
      "   ---- ----------------------------------- 1.1/10.9 MB 14.0 MB/s eta 0:00:01\n",
      "   ----- ---------------------------------- 1.6/10.9 MB 12.9 MB/s eta 0:00:01\n",
      "   -------- ------------------------------- 2.2/10.9 MB 12.9 MB/s eta 0:00:01\n",
      "   ------------- -------------------------- 3.6/10.9 MB 16.4 MB/s eta 0:00:01\n",
      "   ---------------- ----------------------- 4.5/10.9 MB 17.0 MB/s eta 0:00:01\n",
      "   ------------------ --------------------- 5.2/10.9 MB 16.5 MB/s eta 0:00:01\n",
      "   ---------------------- ----------------- 6.2/10.9 MB 17.3 MB/s eta 0:00:01\n",
      "   ------------------------- -------------- 7.0/10.9 MB 17.3 MB/s eta 0:00:01\n",
      "   ---------------------------- ----------- 7.9/10.9 MB 17.4 MB/s eta 0:00:01\n",
      "   ------------------------------- -------- 8.7/10.9 MB 17.4 MB/s eta 0:00:01\n",
      "   --------------------------------- ------ 9.3/10.9 MB 16.9 MB/s eta 0:00:01\n",
      "   ---------------------------------- ----- 9.4/10.9 MB 16.2 MB/s eta 0:00:01\n",
      "   ------------------------------------ --- 10.0/10.9 MB 15.6 MB/s eta 0:00:01\n",
      "   ---------------------------------------  10.8/10.9 MB 16.4 MB/s eta 0:00:01\n",
      "   ---------------------------------------  10.9/10.9 MB 16.0 MB/s eta 0:00:01\n",
      "   ---------------------------------------- 10.9/10.9 MB 14.9 MB/s eta 0:00:00\n",
      "Downloading joblib-1.4.2-py3-none-any.whl (301 kB)\n",
      "   ---------------------------------------- 0.0/301.8 kB ? eta -:--:--\n",
      "   ---------------------------------------- 301.8/301.8 kB 9.4 MB/s eta 0:00:00\n",
      "Downloading threadpoolctl-3.5.0-py3-none-any.whl (18 kB)\n",
      "Installing collected packages: threadpoolctl, joblib, scikit-learn\n",
      "Successfully installed joblib-1.4.2 scikit-learn-1.5.1 threadpoolctl-3.5.0\n"
     ]
    }
   ],
   "source": [
    "!pip install scikit-learn\n"
   ]
  },
  {
   "cell_type": "code",
   "execution_count": null,
   "id": "3a5c383d-e338-43a3-9413-b4d62e98806c",
   "metadata": {},
   "outputs": [],
   "source": []
  }
 ],
 "metadata": {
  "kernelspec": {
   "display_name": "Python 3 (ipykernel)",
   "language": "python",
   "name": "python3"
  },
  "language_info": {
   "codemirror_mode": {
    "name": "ipython",
    "version": 3
   },
   "file_extension": ".py",
   "mimetype": "text/x-python",
   "name": "python",
   "nbconvert_exporter": "python",
   "pygments_lexer": "ipython3",
   "version": "3.12.4"
  }
 },
 "nbformat": 4,
 "nbformat_minor": 5
}
